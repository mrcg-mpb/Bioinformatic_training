{
  "nbformat": 4,
  "nbformat_minor": 0,
  "metadata": {
    "colab": {
      "provenance": [],
      "authorship_tag": "ABX9TyMlFdaO6PGhDJiYyFMCx8t/",
      "include_colab_link": true
    },
    "kernelspec": {
      "name": "python3",
      "display_name": "Python 3"
    },
    "language_info": {
      "name": "python"
    }
  },
  "cells": [
    {
      "cell_type": "markdown",
      "metadata": {
        "id": "view-in-github",
        "colab_type": "text"
      },
      "source": [
        "<a href=\"https://colab.research.google.com/github/Elpastore/WENETAM_VECTOR_GENOMICS_TRAINING_WORKSHOP/blob/main/Population_structure.ipynb\" target=\"_parent\"><img src=\"https://colab.research.google.com/assets/colab-badge.svg\" alt=\"Open In Colab\"/></a>"
      ]
    },
    {
      "cell_type": "markdown",
      "source": [
        "# 🌍 Population Structure, Gene Flow & Cryptic Species Detection\n",
        "\n",
        "Understanding how mosquito populations are genetically structured is critical for effective vector control strategies. Population structure reveals how **genetic variation** is distributed across **geographic regions**, **time**, or **ecological niches**, and provides insights into **evolutionary history**, **gene flow**, and the presence of **cryptic species**.\n",
        "\n",
        "---\n",
        "\n",
        "## 🧬 Why Population Structure Matters\n",
        "\n",
        "- 🔄 **Gene Flow**: The movement of genes between populations can **spread beneficial or resistance mutations**, such as those conferring insecticide resistance.\n",
        "- 🚧 **Barriers to Gene Flow**: Genetic structure may reflect **geographic**, **ecological**, or **behavioral barriers**.\n",
        "- 🧬 **Cryptic Species**: Some species, like *An. gambiae* and *An. coluzzii*, look identical but are **genetically distinct** — these cryptic species may respond differently to interventions.\n",
        "- 🎯 **Targeted Vector Control**: Detecting population structure enables **localized strategies** based on the specific genetic make-up of vector populations.\n",
        "\n",
        "---\n",
        "\n",
        "## 🔍 Key Analytical Approaches\n",
        "\n",
        "To investigate structure, gene flow, and cryptic species, we will use:\n",
        "\n",
        "| Method | Description |\n",
        "|--------|-------------|\n",
        "| **PCA** (Principal Component Analysis) | Visualizes major genetic clusters based on genome-wide variation. |\n",
        "| **F<sub>ST</sub>** (Fixation Index) | Measures genetic differentiation between populations. |\n",
        "| **NJT** (Neighbour-Joining Tree) | Reconstructs relationships between individuals or populations using genetic distances. |\n",
        "\n",
        "\n",
        "---\n",
        "\n",
        "## 🎯 Learning Objectives\n",
        "\n",
        "In this section, you will:\n",
        "\n",
        "- 🔹 Detect **genetic clusters** in your vector population data.\n",
        "- 🔹 Quantify **genetic divergence** using F<sub>ST</sub>.\n",
        "- 🔹 Visualize relationships using **PCA** and **phylogenetic trees**.\n",
        "- 🔹 Explore **evidence for gene flow** or **cryptic diversity**.\n",
        "\n",
        "---\n",
        "\n"
      ],
      "metadata": {
        "id": "o5eionIDL_R_"
      }
    },
    {
      "cell_type": "markdown",
      "source": [
        "## 🧬 Introduction to Population Genetics Concepts\n",
        "\n",
        "Before diving into our practical session, let’s briefly review some key concepts that are fundamental to understanding mosquito population dynamics and how they relate to vector control strategies.\n",
        "\n",
        "---\n",
        "\n",
        "### 🌍 1. Population Structure\n",
        "\n",
        "**Population structure** refers to the presence of genetically distinct groups within a species. These groups may be separated by geography, behavior, or ecological barriers.\n",
        "\n",
        "- Structured populations exhibit differences in **allele frequencies**.\n",
        "- Structure can affect how genes (including resistance genes) spread.\n",
        "- Tools like **PCA**, **F<sub>ST</sub>**, and **phylogenetic trees** help us detect structure.\n",
        "\n",
        "---\n",
        "\n",
        "### 🔄 2. Evolutionary Forces\n",
        "\n",
        "Several forces shape the genetic variation within and between populations:\n",
        "\n",
        "- **Mutation**: Introduces new genetic variation.\n",
        "- **Genetic drift**: Random changes in allele frequencies, especially in small populations.\n",
        "- **Natural selection**: Increases or decreases allele frequencies based on fitness.\n",
        "- **Gene flow**: Movement of genes between populations via migration.\n",
        "\n",
        "These forces interact and leave **signatures in the genome** that we can detect through analysis.\n",
        "\n",
        "---\n",
        "\n",
        "### 🔗 3. Importance of Gene Flow in Vector Control\n",
        "\n",
        "**Gene flow** plays a crucial role in the spread of traits across mosquito populations:\n",
        "\n",
        "- Can spread **insecticide resistance** mutations across regions.\n",
        "- May **counteract local selection**, maintaining genetic diversity.\n",
        "- Understanding gene flow helps design **effective vector control strategies** by identifying connected populations and predicting how resistance might spread.\n",
        "\n",
        "---\n",
        "\n",
        "These concepts form the basis for interpreting results in our upcoming analyses of **population structure**, **diversity**, and **selection**.\n",
        "\n"
      ],
      "metadata": {
        "id": "4aaoZTqhuQG8"
      }
    },
    {
      "cell_type": "markdown",
      "source": [
        "### Practical session"
      ],
      "metadata": {
        "id": "GH7EYx5SuLcI"
      }
    },
    {
      "cell_type": "code",
      "execution_count": null,
      "metadata": {
        "id": "76GwE8CJL7AU"
      },
      "outputs": [],
      "source": [
        "!pip install -qq malariagen_data"
      ]
    },
    {
      "cell_type": "code",
      "source": [
        "import plotly.io as pio\n",
        "pio.renderers.default = \"notebook+colab\"\n",
        "import plotly.express as px\n",
        "import malariagen_data\n",
        "import pandas as pd"
      ],
      "metadata": {
        "id": "BVTH5jQsMNss"
      },
      "execution_count": null,
      "outputs": []
    },
    {
      "cell_type": "code",
      "source": [
        "# Select our region of interest and set the number of SNPs\n",
        "region = \"3L:15,000,000-41,000,000\"\n",
        "n_snps = 100_000"
      ],
      "metadata": {
        "id": "rS_MVqZTNA9L"
      },
      "execution_count": null,
      "outputs": []
    },
    {
      "cell_type": "code",
      "source": [
        "pca_bf_df, evr_bf = ag3.pca(\n",
        "    region=region,\n",
        "    n_snps=n_snps,\n",
        "    sample_sets = \"1191-VO-MULTI-OLOUGHLIN-VMF00140\"\n",
        "    #sample_sets=[\"AG1000G-BF-A\",\"AG1000G-BF-B\"],\n",
        ");"
      ],
      "metadata": {
        "id": "u6GqW8NbTy5w"
      },
      "execution_count": null,
      "outputs": []
    },
    {
      "cell_type": "code",
      "source": [
        "ag3.plot_pca_variance(evr_bf)\n"
      ],
      "metadata": {
        "id": "9bgS2vkOsUxt"
      },
      "execution_count": null,
      "outputs": []
    },
    {
      "cell_type": "code",
      "source": [
        "ag3.plot_pca_coords(\n",
        "    pca_bf_df,\n",
        "    color=\"taxon\",\n",
        "    title=\"Taxonomic structure in Burkina Faso\"\n",
        ")"
      ],
      "metadata": {
        "id": "E9qYpd8msbye"
      },
      "execution_count": null,
      "outputs": []
    },
    {
      "cell_type": "code",
      "source": [
        "ag3.plot_njt(\n",
        "    region=region,\n",
        "    n_snps=n_snps,\n",
        "    sample_sets = \"1191-VO-MULTI-OLOUGHLIN-VMF00140\",\n",
        "    color=\"taxon\",\n",
        ")"
      ],
      "metadata": {
        "id": "XVgKpaM6sfNG"
      },
      "execution_count": null,
      "outputs": []
    },
    {
      "cell_type": "code",
      "source": [
        "ag3.plot_njt(\n",
        "    region=\"X\",\n",
        "    n_snps=n_snps,\n",
        "    sample_sets = \"1191-VO-MULTI-OLOUGHLIN-VMF00140\",\n",
        "    color=\"taxon\",\n",
        ")"
      ],
      "metadata": {
        "id": "s4bxywbAshCh"
      },
      "execution_count": null,
      "outputs": []
    },
    {
      "cell_type": "code",
      "source": [
        "# Fst\n",
        "taxon_fst = ag3.pairwise_average_fst(\n",
        "      region=\"3L:15,000,000-41,000,000\",\n",
        "      cohorts=\"taxon\",\n",
        "      sample_sets = \"AG1000G-BF-B\",\n",
        "      #sample_query=\"country=='Gambia, The' and taxon in ['coluzzii', 'gambiae', 'gcx1']\",\n",
        "      #sample_sets=my_sample_set,\n",
        "      site_mask=\"gamb_colu_arab\",\n",
        "      site_class=\"CDS_DEG_4\",\n",
        "      )\n",
        "taxon_fst"
      ],
      "metadata": {
        "id": "I8CnaWdXsjAh"
      },
      "execution_count": null,
      "outputs": []
    },
    {
      "cell_type": "code",
      "source": [
        "ag3.plot_pairwise_average_fst(taxon_fst)\n"
      ],
      "metadata": {
        "id": "TjTvXGkhtobV"
      },
      "execution_count": null,
      "outputs": []
    },
    {
      "cell_type": "markdown",
      "source": [
        "The combinaison of PCA, NJT and Fst show a clear genetic structure in *An. gambiae* complex, which is particualar due to the genetic distinct between different taxon.\n",
        "The NJT using the X chromosome which tell us more about the reproduction stratetgies. It shows real isolation reproduction between taxa and little or inexistant gene flow between taxa.\n"
      ],
      "metadata": {
        "id": "szcPmAKXVIpb"
      }
    },
    {
      "cell_type": "markdown",
      "source": [
        "### Identification of crypties species"
      ],
      "metadata": {
        "id": "MCwNV_4Bt1r4"
      }
    },
    {
      "cell_type": "markdown",
      "source": [
        "## 🧪 Practical Exercises – Population Structure\n",
        "\n",
        "In this session, you will analyze the **population structure** of *An. gambiae* mosquitoes sampled from **Tanzania** and **Kenya**. Your goal is to explore genetic patterns, detect clustering, and assess genetic differentiation between populations.\n",
        "\n",
        "---\n",
        "\n",
        "### 🌍 Sample Sets\n",
        "\n",
        "We will work with the following sample sets:\n",
        "\n",
        "- 🇹🇿 **Tanzania**: `AG1000G-TZ`\n",
        "- 🇰🇪 **Kenya**: `AG1000G-KE`\n",
        "\n",
        "These sets contain samples from the *gambiae* taxon only.\n",
        "\n",
        "---\n",
        "\n",
        "### 🧬 Instructions\n",
        "\n",
        "1. **Subset your data** to include only the Tanzania and Kenya samples.\n",
        "   - ✅ Ensure you're working only with *An. gambiae* individuals.\n",
        "\n",
        "2. **Perform PCA (Principal Component Analysis)**.\n",
        "   - ➤ Can you identify genetic clusters?\n",
        "   - ➤ Do samples from Kenya and Tanzania separate clearly?\n",
        "\n",
        "3. **Compute pairwise F<sub>ST</sub>** between the two populations.\n",
        "   - ➤ What is the degree of genetic differentiation?\n",
        "   - 💡 *Hint:* Use windowed F<sub>ST</sub> to identify genomic regions under divergence.\n",
        "\n",
        "4. **Construct a Neighbour-Joining Tree (NJT)** using genome-wide distance matrix.\n",
        "   - ➤ Do the clusters support the PCA result?\n",
        "\n",
        "5. **Use the metadata to plot the sampling map** and explain the genetic pattern seen.\n",
        "\n",
        "6. **Optional**: Use **AIMs (Ancestry Informative Markers)** to reinforce your clustering and species-level assignments.\n",
        "\n",
        "---\n",
        "\n",
        "### 🧠 Reflection\n",
        "\n",
        "- What do these results tell you about **gene flow** between Tanzania and Kenya?\n",
        "- Could **geographical distance** or **local adaptation** be contributing to population structure?\n",
        "- Why is it important to understand structure before doing selection scans?\n",
        "\n",
        "---\n",
        "\n",
        "💡 *Bonus Challenge:* Try color samples by region or year to investigate finer-scale structure.\n"
      ],
      "metadata": {
        "id": "Hb-uY5OGt8gX"
      }
    }
  ]
}